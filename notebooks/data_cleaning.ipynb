{
 "cells": [
  {
   "cell_type": "markdown",
   "id": "c61e81ab",
   "metadata": {},
   "source": [
    "# **Data Cleaning & Initial Checks**\n",
    "\n",
    "---\n",
    "---"
   ]
  },
  {
   "cell_type": "markdown",
   "id": "6436af98",
   "metadata": {},
   "source": [
    "## **Setup & Load the Data**\n",
    "---"
   ]
  },
  {
   "cell_type": "code",
   "execution_count": 1,
   "id": "202b1939",
   "metadata": {},
   "outputs": [],
   "source": [
    "import pandas as pd\n",
    "import numpy as np\n",
    "from datetime import datetime\n",
    "import re\n",
    "import pytz\n",
    "from IPython.display import display\n",
    "import matplotlib.pyplot as plt\n",
    "import sys\n",
    "import os\n",
    "import seaborn as sns"
   ]
  },
  {
   "cell_type": "code",
   "execution_count": 2,
   "id": "3d2bff15",
   "metadata": {
    "vscode": {
     "languageId": "markdown"
    }
   },
   "outputs": [
    {
     "data": {
      "text/html": [
       "<div>\n",
       "<style scoped>\n",
       "    .dataframe tbody tr th:only-of-type {\n",
       "        vertical-align: middle;\n",
       "    }\n",
       "\n",
       "    .dataframe tbody tr th {\n",
       "        vertical-align: top;\n",
       "    }\n",
       "\n",
       "    .dataframe thead th {\n",
       "        text-align: right;\n",
       "    }\n",
       "</style>\n",
       "<table border=\"1\" class=\"dataframe\">\n",
       "  <thead>\n",
       "    <tr style=\"text-align: right;\">\n",
       "      <th></th>\n",
       "      <th>Unnamed: 0</th>\n",
       "      <th>headline</th>\n",
       "      <th>url</th>\n",
       "      <th>publisher</th>\n",
       "      <th>date</th>\n",
       "      <th>stock</th>\n",
       "    </tr>\n",
       "  </thead>\n",
       "  <tbody>\n",
       "    <tr>\n",
       "      <th>0</th>\n",
       "      <td>0</td>\n",
       "      <td>Stocks That Hit 52-Week Highs On Friday</td>\n",
       "      <td>https://www.benzinga.com/news/20/06/16190091/s...</td>\n",
       "      <td>Benzinga Insights</td>\n",
       "      <td>2020-06-05 10:30:54-04:00</td>\n",
       "      <td>A</td>\n",
       "    </tr>\n",
       "    <tr>\n",
       "      <th>1</th>\n",
       "      <td>1</td>\n",
       "      <td>Stocks That Hit 52-Week Highs On Wednesday</td>\n",
       "      <td>https://www.benzinga.com/news/20/06/16170189/s...</td>\n",
       "      <td>Benzinga Insights</td>\n",
       "      <td>2020-06-03 10:45:20-04:00</td>\n",
       "      <td>A</td>\n",
       "    </tr>\n",
       "    <tr>\n",
       "      <th>2</th>\n",
       "      <td>2</td>\n",
       "      <td>71 Biggest Movers From Friday</td>\n",
       "      <td>https://www.benzinga.com/news/20/05/16103463/7...</td>\n",
       "      <td>Lisa Levin</td>\n",
       "      <td>2020-05-26 04:30:07-04:00</td>\n",
       "      <td>A</td>\n",
       "    </tr>\n",
       "    <tr>\n",
       "      <th>3</th>\n",
       "      <td>3</td>\n",
       "      <td>46 Stocks Moving In Friday's Mid-Day Session</td>\n",
       "      <td>https://www.benzinga.com/news/20/05/16095921/4...</td>\n",
       "      <td>Lisa Levin</td>\n",
       "      <td>2020-05-22 12:45:06-04:00</td>\n",
       "      <td>A</td>\n",
       "    </tr>\n",
       "    <tr>\n",
       "      <th>4</th>\n",
       "      <td>4</td>\n",
       "      <td>B of A Securities Maintains Neutral on Agilent...</td>\n",
       "      <td>https://www.benzinga.com/news/20/05/16095304/b...</td>\n",
       "      <td>Vick Meyer</td>\n",
       "      <td>2020-05-22 11:38:59-04:00</td>\n",
       "      <td>A</td>\n",
       "    </tr>\n",
       "  </tbody>\n",
       "</table>\n",
       "</div>"
      ],
      "text/plain": [
       "   Unnamed: 0                                           headline  \\\n",
       "0           0            Stocks That Hit 52-Week Highs On Friday   \n",
       "1           1         Stocks That Hit 52-Week Highs On Wednesday   \n",
       "2           2                      71 Biggest Movers From Friday   \n",
       "3           3       46 Stocks Moving In Friday's Mid-Day Session   \n",
       "4           4  B of A Securities Maintains Neutral on Agilent...   \n",
       "\n",
       "                                                 url          publisher  \\\n",
       "0  https://www.benzinga.com/news/20/06/16190091/s...  Benzinga Insights   \n",
       "1  https://www.benzinga.com/news/20/06/16170189/s...  Benzinga Insights   \n",
       "2  https://www.benzinga.com/news/20/05/16103463/7...         Lisa Levin   \n",
       "3  https://www.benzinga.com/news/20/05/16095921/4...         Lisa Levin   \n",
       "4  https://www.benzinga.com/news/20/05/16095304/b...         Vick Meyer   \n",
       "\n",
       "                        date stock  \n",
       "0  2020-06-05 10:30:54-04:00     A  \n",
       "1  2020-06-03 10:45:20-04:00     A  \n",
       "2  2020-05-26 04:30:07-04:00     A  \n",
       "3  2020-05-22 12:45:06-04:00     A  \n",
       "4  2020-05-22 11:38:59-04:00     A  "
      ]
     },
     "execution_count": 2,
     "metadata": {},
     "output_type": "execute_result"
    }
   ],
   "source": [
    "# Load a CSV file from your local file system\n",
    "df = pd.read_csv('C:/Users/Admin/OneDrive/10 Academy/Week 1/Technical Content/Data/raw_analyst_ratings.csv')\n",
    "df.head()"
   ]
  },
  {
   "cell_type": "markdown",
   "id": "eedf8ce9",
   "metadata": {},
   "source": [
    "---\n",
    "## **Data Cleaning**"
   ]
  },
  {
   "cell_type": "code",
   "execution_count": 3,
   "id": "a5882d02",
   "metadata": {},
   "outputs": [
    {
     "name": "stdout",
     "output_type": "stream",
     "text": [
      "DataFrame Info:\n",
      "<class 'pandas.core.frame.DataFrame'>\n",
      "RangeIndex: 1407328 entries, 0 to 1407327\n",
      "Data columns (total 6 columns):\n",
      " #   Column      Non-Null Count    Dtype \n",
      "---  ------      --------------    ----- \n",
      " 0   Unnamed: 0  1407328 non-null  int64 \n",
      " 1   headline    1407328 non-null  object\n",
      " 2   url         1407328 non-null  object\n",
      " 3   publisher   1407328 non-null  object\n",
      " 4   date        1407328 non-null  object\n",
      " 5   stock       1407328 non-null  object\n",
      "dtypes: int64(1), object(5)\n",
      "memory usage: 64.4+ MB\n",
      "\n",
      "Missing Values:\n",
      " Unnamed: 0    0\n",
      "headline      0\n",
      "url           0\n",
      "publisher     0\n",
      "date          0\n",
      "stock         0\n",
      "dtype: int64\n",
      "\n",
      "Sample Dates Before Parsing:\n",
      "0    2020-06-05 10:30:54-04:00\n",
      "1    2020-06-03 10:45:20-04:00\n",
      "2    2020-05-26 04:30:07-04:00\n",
      "3    2020-05-22 12:45:06-04:00\n",
      "4    2020-05-22 11:38:59-04:00\n",
      "Name: date, dtype: object\n",
      "\n",
      "Sample Dates After Parsing:\n",
      "0   2020-06-05 14:30:54+00:00\n",
      "1   2020-06-03 14:45:20+00:00\n",
      "2   2020-05-26 08:30:07+00:00\n",
      "3   2020-05-22 16:45:06+00:00\n",
      "4   2020-05-22 15:38:59+00:00\n",
      "Name: date, dtype: datetime64[ns, UTC]\n",
      "\n",
      "Unparsed Dates (NaT): 1351341\n"
     ]
    }
   ],
   "source": [
    "# Check the structure, data types, and missing values\n",
    "print(\"DataFrame Info:\")\n",
    "df.info()\n",
    "print(\"\\nMissing Values:\\n\", df.isnull().sum())\n",
    "\n",
    "# Preview unique date formats and parse the 'date' column\n",
    "print(\"\\nSample Dates Before Parsing:\")\n",
    "print(df['date'].head())\n",
    "\n",
    "# Convert 'date' column to datetime, handling errors and timezones\n",
    "df['date'] = pd.to_datetime(df['date'], errors='coerce', utc=True)\n",
    "\n",
    "print(\"\\nSample Dates After Parsing:\")\n",
    "print(df['date'].head())\n",
    "\n",
    "# Check for any parsing failures (NaT)\n",
    "print(\"\\nUnparsed Dates (NaT):\", df['date'].isna().sum())\n",
    "\n",
    "# Save the cleaned dataframe to a local CSV file\n",
    "df.to_csv('C:/Users/Admin/OneDrive/10 Academy/Week 1/Technical Content/Data/raw_analyst_ratings_cleaned.csv', index=False)"
   ]
  },
  {
   "cell_type": "markdown",
   "id": "47993dc9",
   "metadata": {},
   "source": [
    "## **Summary Report: Analyst Ratings DataFrame**\n",
    "\n",
    "This dataset (`df`) contains **1,407,328** rows and **6 columns** related to analyst ratings and stock market news headlines. Below is a summary of its structure and contents:\n",
    "\n",
    "### **Columns Overview**\n",
    "- **Unnamed: 0**: Index column from the original CSV (int64).\n",
    "- **headline**: News headline text (object).\n",
    "- **url**: Link to the news article (object).\n",
    "- **publisher**: Name of the news publisher or author (object).\n",
    "- **date**: Date and time of publication (datetime64[ns, UTC]); contains many missing values.\n",
    "- **stock**: Stock ticker symbol (object).\n",
    "\n",
    "### **Data Quality**\n",
    "- The `date` column has significant missing values: only **55,987** non-null entries out of 1,407,328 (~4% completeness).\n",
    "- All other columns are fully populated.\n",
    "\n",
    "### **Memory Usage**\n",
    "- The DataFrame uses approximately **64.4 MB** of memory.\n",
    "\n",
    "### **Sample Data**\n",
    "| headline                                         | publisher         | date                      | stock |\n",
    "|--------------------------------------------------|-------------------|---------------------------|-------|\n",
    "| Stocks That Hit 52-Week Highs On Friday          | Benzinga Insights | 2020-06-05 14:30:54+00:00 | A     |\n",
    "| 71 Biggest Movers From Friday                    | Lisa Levin        | 2020-05-26 08:30:07+00:00 | A     |\n",
    "| B of A Securities Maintains Neutral on Agilent...| Vick Meyer        | 2020-05-22 15:38:59+00:00 | A     |\n",
    "\n",
    "### **Key Observations**\n",
    "- The dataset is large and covers a wide range of news headlines and publishers.\n",
    "- The `date` field will require attention due to its high rate of missing values.\n",
    "- The data is ready for further cleaning, analysis, or feature engineering."
   ]
  },
  {
   "cell_type": "markdown",
   "id": "32953d0c",
   "metadata": {},
   "source": []
  }
 ],
 "metadata": {
  "kernelspec": {
   "display_name": "Python 3",
   "language": "python",
   "name": "python3"
  },
  "language_info": {
   "codemirror_mode": {
    "name": "ipython",
    "version": 3
   },
   "file_extension": ".py",
   "mimetype": "text/x-python",
   "name": "python",
   "nbconvert_exporter": "python",
   "pygments_lexer": "ipython3",
   "version": "3.13.3"
  }
 },
 "nbformat": 4,
 "nbformat_minor": 5
}
