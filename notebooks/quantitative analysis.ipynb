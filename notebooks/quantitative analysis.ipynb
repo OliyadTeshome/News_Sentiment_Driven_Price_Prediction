{
 "cells": [
  {
   "cell_type": "markdown",
   "id": "01ac735b",
   "metadata": {},
   "source": [
    "# **Quantitative analysis using stock price data and technical indicators**\n",
    "\n",
    "---\n",
    "---"
   ]
  },
  {
   "cell_type": "markdown",
   "id": "1a9ff722",
   "metadata": {},
   "source": [
    "### **Setup & Load the Data**\n",
    "---"
   ]
  },
  {
   "cell_type": "code",
   "execution_count": 1,
   "id": "64cdac73",
   "metadata": {},
   "outputs": [],
   "source": [
    "import pandas as pd\n",
    "import numpy as np\n",
    "from datetime import datetime\n",
    "import re\n",
    "import pytz\n",
    "from IPython.display import display\n",
    "import matplotlib.pyplot as plt\n",
    "import sys\n",
    "import os\n",
    "import seaborn as sns"
   ]
  },
  {
   "cell_type": "markdown",
   "id": "4f28f40a",
   "metadata": {},
   "source": [
    "### **Tickers**\n",
    "- AAPL: Apple Inc.\n",
    "- AMZN: Amazon.com, Inc.\n",
    "- GOOG: Alphabet Inc. (Class C)\n",
    "- FB: Meta Platforms, Inc.\n",
    "- MSF: Microsoft Corporation\n",
    "- NVDA: NVIDIA Corporation\n",
    "- TSLA: Tesla, Inc."
   ]
  },
  {
   "cell_type": "code",
   "execution_count": 2,
   "id": "e8a36fec",
   "metadata": {},
   "outputs": [],
   "source": [
    "# Load a CSV file from your local file system\n",
    "df_Apple = pd.read_csv('C:/Users/Admin/OneDrive/10 Academy/Week 1/Technical Content/Data/yfinance_data/AAPL_historical_data.csv')\n",
    "df_Amazon = pd.read_csv('C:/Users/Admin/OneDrive/10 Academy/Week 1/Technical Content/Data/yfinance_data/AMZN_historical_data.csv')\n",
    "df_Alphabet = pd.read_csv('C:/Users/Admin/OneDrive/10 Academy/Week 1/Technical Content/Data/yfinance_data/GOOG_historical_data.csv')\n",
    "df_Meta = pd.read_csv('C:/Users/Admin/OneDrive/10 Academy/Week 1/Technical Content/Data/yfinance_data/META_historical_data.csv')\n",
    "df_Microsoft = pd.read_csv('C:/Users/Admin/OneDrive/10 Academy/Week 1/Technical Content/Data/yfinance_data/MSFT_historical_data.csv')\n",
    "df_NVIDIA = pd.read_csv('C:/Users/Admin/OneDrive/10 Academy/Week 1/Technical Content/Data/yfinance_data/NVDA_historical_data.csv')\n",
    "df_TSLA = pd.read_csv('C:/Users/Admin/OneDrive/10 Academy/Week 1/Technical Content/Data/yfinance_data/TSLA_historical_data.csv')\n",
    "\n",
    "# Add a 'Ticker' column to each DataFrame\n",
    "df_Apple['Ticker'] = 'AAPL'\n",
    "df_Amazon['Ticker'] = 'AMZN'\n",
    "df_Alphabet['Ticker'] = 'GOOG'\n",
    "df_Meta['Ticker'] = 'FB'\n",
    "df_Microsoft['Ticker'] = 'MSF'\n",
    "df_NVIDIA['Ticker'] = 'NVDA'\n",
    "df_TSLA['Ticker'] = 'TSLA'\n",
    "\n",
    "# Combine all DataFrames into one\n",
    "df = pd.concat([df_Apple, df_Amazon, df_Alphabet, df_Meta, df_Microsoft, df_NVIDIA, df_TSLA], ignore_index=True)"
   ]
  },
  {
   "cell_type": "markdown",
   "id": "04a0d3dc",
   "metadata": {},
   "source": [
    "### **Data Preparation and Cleaning**\n",
    "\n",
    "---\n"
   ]
  },
  {
   "cell_type": "code",
   "execution_count": 3,
   "id": "2a79f0c0",
   "metadata": {},
   "outputs": [
    {
     "name": "stdout",
     "output_type": "stream",
     "text": [
      "<class 'pandas.core.frame.DataFrame'>\n",
      "RangeIndex: 45428 entries, 0 to 45427\n",
      "Data columns (total 10 columns):\n",
      " #   Column        Non-Null Count  Dtype  \n",
      "---  ------        --------------  -----  \n",
      " 0   Date          45428 non-null  object \n",
      " 1   Open          45428 non-null  float64\n",
      " 2   High          45428 non-null  float64\n",
      " 3   Low           45428 non-null  float64\n",
      " 4   Close         45428 non-null  float64\n",
      " 5   Adj Close     45428 non-null  float64\n",
      " 6   Volume        45428 non-null  int64  \n",
      " 7   Dividends     45428 non-null  float64\n",
      " 8   Stock Splits  45428 non-null  float64\n",
      " 9   Ticker        45428 non-null  object \n",
      "dtypes: float64(7), int64(1), object(2)\n",
      "memory usage: 3.5+ MB\n",
      "None\n",
      "Date            0\n",
      "Open            0\n",
      "High            0\n",
      "Low             0\n",
      "Close           0\n",
      "Adj Close       0\n",
      "Volume          0\n",
      "Dividends       0\n",
      "Stock Splits    0\n",
      "Ticker          0\n",
      "dtype: int64\n",
      "<class 'pandas.core.frame.DataFrame'>\n",
      "RangeIndex: 45428 entries, 0 to 45427\n",
      "Data columns (total 10 columns):\n",
      " #   Column        Non-Null Count  Dtype         \n",
      "---  ------        --------------  -----         \n",
      " 0   Date          45428 non-null  datetime64[ns]\n",
      " 1   Open          45428 non-null  float64       \n",
      " 2   High          45428 non-null  float64       \n",
      " 3   Low           45428 non-null  float64       \n",
      " 4   Close         45428 non-null  float64       \n",
      " 5   Adj Close     45428 non-null  float64       \n",
      " 6   Volume        45428 non-null  int64         \n",
      " 7   Dividends     45428 non-null  float64       \n",
      " 8   Stock Splits  45428 non-null  float64       \n",
      " 9   Ticker        45428 non-null  object        \n",
      "dtypes: datetime64[ns](1), float64(7), int64(1), object(1)\n",
      "memory usage: 3.5+ MB\n",
      "None\n"
     ]
    }
   ],
   "source": [
    "# Check for missing values and data types\n",
    "print(df.info())\n",
    "print(df.isnull().sum())\n",
    "\n",
    "# Convert 'Date' column to datetime if not already\n",
    "df['Date'] = pd.to_datetime(df['Date'], errors='coerce')\n",
    "\n",
    "# Drop rows with missing or invalid dates\n",
    "df = df.dropna(subset=['Date'])\n",
    "\n",
    "# Ensure numeric columns are correct type\n",
    "numeric_cols = ['Open', 'High', 'Low', 'Close', 'Adj Close', 'Volume', 'Dividends', 'Stock Splits']\n",
    "df[numeric_cols] = df[numeric_cols].apply(pd.to_numeric, errors='coerce')\n",
    "\n",
    "# Drop rows with any remaining missing values in critical columns\n",
    "df = df.dropna(subset=numeric_cols)\n",
    "\n",
    "# Reset index after cleaning\n",
    "df = df.reset_index(drop=True)\n",
    "\n",
    "# Display cleaned dataframe info\n",
    "print(df.info())"
   ]
  },
  {
   "cell_type": "markdown",
   "id": "53746355",
   "metadata": {},
   "source": [
    "### **Summary of Data Preparation**\n",
    "\n",
    "The data preparation process involved several key steps to ensure the integrity and usability of the stock price dataset:\n",
    "\n",
    "- **Missing Values & Data Types:** Checked for missing values and verified data types for all columns.\n",
    "- **Date Conversion:** Converted the 'Date' column to datetime format and removed any rows with invalid or missing dates.\n",
    "- **Numeric Columns:** Ensured all price and volume-related columns (`Open`, `High`, `Low`, `Close`, `Adj Close`, `Volume`, `Dividends`, `Stock Splits`) are of numeric type, coercing errors to NaN.\n",
    "- **Data Cleaning:** Dropped rows with missing values in critical numeric columns to maintain data quality.\n",
    "- **Index Reset:** Reset the DataFrame index after cleaning for consistency.\n",
    "- **Result:** The cleaned DataFrame `df` contains reliable, well-typed historical stock data for multiple major companies, ready for further analysis.\n",
    "\n",
    "---"
   ]
  },
  {
   "cell_type": "markdown",
   "id": "037c2c6f",
   "metadata": {},
   "source": []
  }
 ],
 "metadata": {
  "kernelspec": {
   "display_name": "Python 3",
   "language": "python",
   "name": "python3"
  },
  "language_info": {
   "codemirror_mode": {
    "name": "ipython",
    "version": 3
   },
   "file_extension": ".py",
   "mimetype": "text/x-python",
   "name": "python",
   "nbconvert_exporter": "python",
   "pygments_lexer": "ipython3",
   "version": "3.13.3"
  }
 },
 "nbformat": 4,
 "nbformat_minor": 5
}
