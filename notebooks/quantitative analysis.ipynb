{
 "cells": [
  {
   "cell_type": "markdown",
   "id": "01ac735b",
   "metadata": {},
   "source": [
    "# **Quantitative analysis using stock price data and technical indicators**\n",
    "\n",
    "---\n",
    "---"
   ]
  },
  {
   "cell_type": "markdown",
   "id": "1a9ff722",
   "metadata": {},
   "source": [
    "### **Setups**\n",
    "---"
   ]
  },
  {
   "cell_type": "code",
   "execution_count": 1,
   "id": "64cdac73",
   "metadata": {},
   "outputs": [],
   "source": [
    "import pandas as pd\n",
    "import numpy as np\n",
    "from datetime import datetime\n",
    "import re\n",
    "import pytz\n",
    "from IPython.display import display\n",
    "import matplotlib.pyplot as plt\n",
    "import sys\n",
    "import os\n",
    "import seaborn as sns"
   ]
  },
  {
   "cell_type": "markdown",
   "id": "935f1077",
   "metadata": {},
   "source": [
    "### **1. Data Preparation and Cleaning**\n",
    "\n",
    "---\n"
   ]
  },
  {
   "cell_type": "markdown",
   "id": "4f28f40a",
   "metadata": {},
   "source": [
    "### **Tickers**\n",
    "- AAPL: Apple Inc.\n",
    "- AMZN: Amazon.com, Inc.\n",
    "- GOOG: Alphabet Inc. (Class C)\n",
    "- FB: Meta Platforms, Inc.\n",
    "- MSF: Microsoft Corporation\n",
    "- NVDA: NVIDIA Corporation\n",
    "- TSLA: Tesla, Inc."
   ]
  },
  {
   "cell_type": "code",
   "execution_count": 2,
   "id": "e8a36fec",
   "metadata": {},
   "outputs": [],
   "source": [
    "# Load a CSV file from your local file system\n",
    "df_Apple = pd.read_csv('C:/Users/Admin/OneDrive/10 Academy/Week 1/Technical Content/Data/yfinance_data/AAPL_historical_data.csv')\n",
    "df_Amazon = pd.read_csv('C:/Users/Admin/OneDrive/10 Academy/Week 1/Technical Content/Data/yfinance_data/AMZN_historical_data.csv')\n",
    "df_Alphabet = pd.read_csv('C:/Users/Admin/OneDrive/10 Academy/Week 1/Technical Content/Data/yfinance_data/GOOG_historical_data.csv')\n",
    "df_Meta = pd.read_csv('C:/Users/Admin/OneDrive/10 Academy/Week 1/Technical Content/Data/yfinance_data/META_historical_data.csv')\n",
    "df_Microsoft = pd.read_csv('C:/Users/Admin/OneDrive/10 Academy/Week 1/Technical Content/Data/yfinance_data/MSFT_historical_data.csv')\n",
    "df_NVIDIA = pd.read_csv('C:/Users/Admin/OneDrive/10 Academy/Week 1/Technical Content/Data/yfinance_data/NVDA_historical_data.csv')\n",
    "df_TSLA = pd.read_csv('C:/Users/Admin/OneDrive/10 Academy/Week 1/Technical Content/Data/yfinance_data/TSLA_historical_data.csv')\n",
    "\n",
    "# Add a 'Ticker' column to each DataFrame\n",
    "df_Apple['Ticker'] = 'AAPL'\n",
    "df_Amazon['Ticker'] = 'AMZN'\n",
    "df_Alphabet['Ticker'] = 'GOOG'\n",
    "df_Meta['Ticker'] = 'FB'\n",
    "df_Microsoft['Ticker'] = 'MSF'\n",
    "df_NVIDIA['Ticker'] = 'NVDA'\n",
    "df_TSLA['Ticker'] = 'TSLA'\n",
    "\n",
    "# Combine all DataFrames into one\n",
    "df = pd.concat([df_Apple, df_Amazon, df_Alphabet, df_Meta, df_Microsoft, df_NVIDIA, df_TSLA], ignore_index=True)"
   ]
  },
  {
   "cell_type": "code",
   "execution_count": 3,
   "id": "2a79f0c0",
   "metadata": {},
   "outputs": [
    {
     "name": "stdout",
     "output_type": "stream",
     "text": [
      "<class 'pandas.core.frame.DataFrame'>\n",
      "RangeIndex: 45428 entries, 0 to 45427\n",
      "Data columns (total 10 columns):\n",
      " #   Column        Non-Null Count  Dtype  \n",
      "---  ------        --------------  -----  \n",
      " 0   Date          45428 non-null  object \n",
      " 1   Open          45428 non-null  float64\n",
      " 2   High          45428 non-null  float64\n",
      " 3   Low           45428 non-null  float64\n",
      " 4   Close         45428 non-null  float64\n",
      " 5   Adj Close     45428 non-null  float64\n",
      " 6   Volume        45428 non-null  int64  \n",
      " 7   Dividends     45428 non-null  float64\n",
      " 8   Stock Splits  45428 non-null  float64\n",
      " 9   Ticker        45428 non-null  object \n",
      "dtypes: float64(7), int64(1), object(2)\n",
      "memory usage: 3.5+ MB\n",
      "None\n",
      "Date            0\n",
      "Open            0\n",
      "High            0\n",
      "Low             0\n",
      "Close           0\n",
      "Adj Close       0\n",
      "Volume          0\n",
      "Dividends       0\n",
      "Stock Splits    0\n",
      "Ticker          0\n",
      "dtype: int64\n",
      "<class 'pandas.core.frame.DataFrame'>\n",
      "RangeIndex: 45428 entries, 0 to 45427\n",
      "Data columns (total 10 columns):\n",
      " #   Column        Non-Null Count  Dtype         \n",
      "---  ------        --------------  -----         \n",
      " 0   Date          45428 non-null  datetime64[ns]\n",
      " 1   Open          45428 non-null  float64       \n",
      " 2   High          45428 non-null  float64       \n",
      " 3   Low           45428 non-null  float64       \n",
      " 4   Close         45428 non-null  float64       \n",
      " 5   Adj Close     45428 non-null  float64       \n",
      " 6   Volume        45428 non-null  int64         \n",
      " 7   Dividends     45428 non-null  float64       \n",
      " 8   Stock Splits  45428 non-null  float64       \n",
      " 9   Ticker        45428 non-null  object        \n",
      "dtypes: datetime64[ns](1), float64(7), int64(1), object(1)\n",
      "memory usage: 3.5+ MB\n",
      "None\n"
     ]
    }
   ],
   "source": [
    "# Check for missing values and data types\n",
    "print(df.info())\n",
    "print(df.isnull().sum())\n",
    "\n",
    "# Convert 'Date' column to datetime if not already\n",
    "df['Date'] = pd.to_datetime(df['Date'], errors='coerce')\n",
    "\n",
    "# Drop rows with missing or invalid dates\n",
    "df = df.dropna(subset=['Date'])\n",
    "\n",
    "# Ensure numeric columns are correct type\n",
    "numeric_cols = ['Open', 'High', 'Low', 'Close', 'Adj Close', 'Volume', 'Dividends', 'Stock Splits']\n",
    "df[numeric_cols] = df[numeric_cols].apply(pd.to_numeric, errors='coerce')\n",
    "\n",
    "# Drop rows with any remaining missing values in critical columns\n",
    "df = df.dropna(subset=numeric_cols)\n",
    "\n",
    "# Reset index after cleaning\n",
    "df = df.reset_index(drop=True)\n",
    "\n",
    "# Display cleaned dataframe info\n",
    "print(df.info())"
   ]
  },
  {
   "cell_type": "markdown",
   "id": "53746355",
   "metadata": {},
   "source": [
    "### **Summary of Data Preparation**\n",
    "\n",
    "The data preparation process involved several key steps to ensure the integrity and usability of the stock price dataset:\n",
    "\n",
    "- **Missing Values & Data Types:** Checked for missing values and verified data types for all columns.\n",
    "- **Date Conversion:** Converted the 'Date' column to datetime format and removed any rows with invalid or missing dates.\n",
    "- **Numeric Columns:** Ensured all price and volume-related columns (`Open`, `High`, `Low`, `Close`, `Adj Close`, `Volume`, `Dividends`, `Stock Splits`) are of numeric type, coercing errors to NaN.\n",
    "- **Data Cleaning:** Dropped rows with missing values in critical numeric columns to maintain data quality.\n",
    "- **Index Reset:** Reset the DataFrame index after cleaning for consistency.\n",
    "- **Result:** The cleaned DataFrame `df` contains reliable, well-typed historical stock data for multiple major companies, ready for further analysis.\n",
    "\n",
    "---"
   ]
  },
  {
   "cell_type": "markdown",
   "id": "33c85c51",
   "metadata": {},
   "source": [
    "### **2. Technical Indicator Computation**"
   ]
  },
  {
   "cell_type": "code",
   "execution_count": null,
   "id": "9f431bfb",
   "metadata": {},
   "outputs": [
    {
     "ename": "ModuleNotFoundError",
     "evalue": "No module named 'talib'",
     "output_type": "error",
     "traceback": [
      "\u001b[31m---------------------------------------------------------------------------\u001b[39m",
      "\u001b[31mModuleNotFoundError\u001b[39m                       Traceback (most recent call last)",
      "\u001b[36mCell\u001b[39m\u001b[36m \u001b[39m\u001b[32mIn[6]\u001b[39m\u001b[32m, line 1\u001b[39m\n\u001b[32m----> \u001b[39m\u001b[32m1\u001b[39m \u001b[38;5;28;01mimport\u001b[39;00m\u001b[38;5;250m \u001b[39m\u001b[34;01mtalib\u001b[39;00m\n\u001b[32m      3\u001b[39m \u001b[38;5;66;03m# Calculate 20-day and 50-day Simple Moving Averages (SMA)\u001b[39;00m\n\u001b[32m      4\u001b[39m df[\u001b[33m'\u001b[39m\u001b[33mSMA_20\u001b[39m\u001b[33m'\u001b[39m] = df.groupby(\u001b[33m'\u001b[39m\u001b[33mTicker\u001b[39m\u001b[33m'\u001b[39m)[\u001b[33m'\u001b[39m\u001b[33mClose\u001b[39m\u001b[33m'\u001b[39m].transform(\u001b[38;5;28;01mlambda\u001b[39;00m x: talib.SMA(x, timeperiod=\u001b[32m20\u001b[39m))\n",
      "\u001b[31mModuleNotFoundError\u001b[39m: No module named 'talib'"
     ]
    },
    {
     "ename": "",
     "evalue": "",
     "output_type": "error",
     "traceback": [
      "\u001b[1;31mThe Kernel crashed while executing code in the current cell or a previous cell. \n",
      "\u001b[1;31mPlease review the code in the cell(s) to identify a possible cause of the failure. \n",
      "\u001b[1;31mClick <a href='https://aka.ms/vscodeJupyterKernelCrash'>here</a> for more info. \n",
      "\u001b[1;31mView Jupyter <a href='command:jupyter.viewOutput'>log</a> for further details."
     ]
    }
   ],
   "source": [
    "import talib\n",
    "\n",
    "# Calculate 20-day and 50-day Simple Moving Averages (SMA)\n",
    "df['SMA_20'] = df.groupby('Ticker')['Close'].transform(lambda x: talib.SMA(x, timeperiod=20))\n",
    "df['SMA_50'] = df.groupby('Ticker')['Close'].transform(lambda x: talib.SMA(x, timeperiod=50))\n",
    "\n",
    "# Calculate Relative Strength Index (RSI) with a 14-day period\n",
    "df['RSI_14'] = df.groupby('Ticker')['Close'].transform(lambda x: talib.RSI(x, timeperiod=14))\n",
    "\n",
    "# Calculate MACD (12,26,9) for each ticker\n",
    "def calc_macd(x):\n",
    "    macd, macdsignal, macdhist = talib.MACD(x, fastperiod=12, slowperiod=26, signalperiod=9)\n",
    "    return pd.DataFrame({'MACD': macd, 'MACD_signal': macdsignal, 'MACD_hist': macdhist})\n",
    "\n",
    "macd_df = df.groupby('Ticker')['Close'].apply(calc_macd).reset_index(level=0, drop=True)\n",
    "df[['MACD', 'MACD_signal', 'MACD_hist']] = macd_df\n",
    "\n",
    "# Display the first few rows with new indicators\n",
    "display(df.head())"
   ]
  }
 ],
 "metadata": {
  "kernelspec": {
   "display_name": "Python 3",
   "language": "python",
   "name": "python3"
  },
  "language_info": {
   "codemirror_mode": {
    "name": "ipython",
    "version": 3
   },
   "file_extension": ".py",
   "mimetype": "text/x-python",
   "name": "python",
   "nbconvert_exporter": "python",
   "pygments_lexer": "ipython3",
   "version": "3.13.3"
  }
 },
 "nbformat": 4,
 "nbformat_minor": 5
}
